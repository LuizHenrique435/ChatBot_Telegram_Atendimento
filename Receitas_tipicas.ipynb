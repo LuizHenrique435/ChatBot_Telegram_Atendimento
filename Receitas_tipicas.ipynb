{
  "nbformat": 4,
  "nbformat_minor": 0,
  "metadata": {
    "colab": {
      "provenance": []
    },
    "kernelspec": {
      "name": "python3",
      "display_name": "Python 3"
    },
    "language_info": {
      "name": "python"
    }
  },
  "cells": [
    {
      "cell_type": "code",
      "source": [
        "! pip install pytelegrambotapi"
      ],
      "metadata": {
        "colab": {
          "base_uri": "https://localhost:8080/"
        },
        "id": "ya73yVECgnRy",
        "outputId": "d491b544-b12c-4024-9a57-94b87fb4e545"
      },
      "execution_count": null,
      "outputs": [
        {
          "output_type": "stream",
          "name": "stdout",
          "text": [
            "Collecting pytelegrambotapi\n",
            "  Downloading pytelegrambotapi-4.22.1-py3-none-any.whl.metadata (48 kB)\n",
            "\u001b[?25l     \u001b[90m━━━━━━━━━━━━━━━━━━━━━━━━━━━━━━━━━━━━━━━━\u001b[0m \u001b[32m0.0/48.2 kB\u001b[0m \u001b[31m?\u001b[0m eta \u001b[36m-:--:--\u001b[0m\r\u001b[2K     \u001b[90m━━━━━━━━━━━━━━━━━━━━━━━━━━━━━━━━━━━━━━━━\u001b[0m \u001b[32m48.2/48.2 kB\u001b[0m \u001b[31m2.5 MB/s\u001b[0m eta \u001b[36m0:00:00\u001b[0m\n",
            "\u001b[?25hRequirement already satisfied: requests in /usr/local/lib/python3.10/dist-packages (from pytelegrambotapi) (2.32.3)\n",
            "Requirement already satisfied: charset-normalizer<4,>=2 in /usr/local/lib/python3.10/dist-packages (from requests->pytelegrambotapi) (3.3.2)\n",
            "Requirement already satisfied: idna<4,>=2.5 in /usr/local/lib/python3.10/dist-packages (from requests->pytelegrambotapi) (3.8)\n",
            "Requirement already satisfied: urllib3<3,>=1.21.1 in /usr/local/lib/python3.10/dist-packages (from requests->pytelegrambotapi) (2.0.7)\n",
            "Requirement already satisfied: certifi>=2017.4.17 in /usr/local/lib/python3.10/dist-packages (from requests->pytelegrambotapi) (2024.8.30)\n",
            "Downloading pytelegrambotapi-4.22.1-py3-none-any.whl (261 kB)\n",
            "\u001b[2K   \u001b[90m━━━━━━━━━━━━━━━━━━━━━━━━━━━━━━━━━━━━━━━━\u001b[0m \u001b[32m261.0/261.0 kB\u001b[0m \u001b[31m12.3 MB/s\u001b[0m eta \u001b[36m0:00:00\u001b[0m\n",
            "\u001b[?25hInstalling collected packages: pytelegrambotapi\n",
            "Successfully installed pytelegrambotapi-4.22.1\n"
          ]
        }
      ]
    },
    {
      "cell_type": "code",
      "execution_count": 8,
      "metadata": {
        "id": "9tQtg7eqgV7E"
      },
      "outputs": [],
      "source": [
        "import telebot\n",
        "import logging\n",
        "\n",
        "# Configurar logging para depuração\n",
        "logging.basicConfig(level=logging.DEBUG)\n",
        "\n",
        "# Token do seu bot do Telegram\n",
        "TOKEN = '7522162966:AAHOaYWOHvHXum1G6namUDqxICzIaFpIfr8'\n",
        "\n",
        "# Inicialização do bot\n",
        "bot = telebot.TeleBot(TOKEN)\n",
        "\n",
        "# Lista de receitas típicas\n",
        "receitas_tipicas = {\n",
        "    \"Feijoada\": \"500g de feijão preto, 200g de carne seca, 150g de linguiça calabresa, 100g de paio, 2 dentes de alho picados, 1 cebola picada, 2 folhas de louro, Sal e pimenta a gosto. Cozinhe as carnes e o feijão com temperos a gosto.\",\n",
        "    \"Moqueca\": \"1 kg de peixe em postas, 1 pimentão verde, 1 pimentão vermelho, 2 tomates, 1 cebola, 200ml de leite de coco, 2 colheres de sopa de azeite de dendê, Suco de 1 limão, Coentro e sal a gosto. Cozinhe o peixe com os vegetais e o tempero.\",\n",
        "    \"Arroz_de_Praia\": \"2 xícaras de arroz, 500g de camarões limpos, 1 pimentão vermelho, 1 cebola, 2 dentes de alho, 1 tomate, 1/2 xícara de azeite de oliva, Sal e pimenta a gosto. Cozinhe o arroz com os camarões e temperos.\",\n",
        "    \"Coxinha\": \"500g de peito de frango, 1 cebola, 2 dentes de alho, 1 xícara de farinha de trigo, 1 xícara de farinha de rosca, 2 ovos, Sal e pimenta a gosto. Recheie a massa de coxinha com o frango desfiado e frite até dourar.\",\n",
        "    \"Pão_de_Queijo\": \"500g de polvilho azedo, 200g de queijo minas ralado, 1 xícara de leite, 1/2 xícara de óleo, 2 ovos, Sal a gosto. Misture os ingredientes e asse em forminhas.\",\n",
        "    \"Brigadeiro\": \"1 lata de leite condensado, 2 colheres de sopa de chocolate em pó, 1 colher de sopa de manteiga, Chocolate granulado para enrolar. Cozinhe o leite condensado com o chocolate e a manteiga até o ponto de brigadeiro e enrole.\",\n",
        "    \"Pudim\": \"1 lata de leite condensado, 2 latas de leite comum, 3 ovos, 1 xícara de açúcar para caramelizar. Bata todos os ingredientes e asse em banho-maria até firmar.\",\n",
        "}\n",
        "\n",
        "# Lista de receitas de bolo simples (mantida para referência)\n",
        "receitas_bolo_simples = {\n",
        "    \"Limao\": \"Bolo de limão: Misture 3 ovos, 1 xícara de açúcar, 1/2 xícara de óleo, suco e raspas de 2 limões, 2 xícaras de farinha de trigo e 1 colher de sopa de fermento. Asse por 40 minutos a 180°C.\",\n",
        "    \"Laranja\": \"Bolo de laranja: Bata no liquidificador 3 ovos, 1 xícara de suco de laranja, 1 xícara de óleo, 2 xícaras de açúcar e 2 xícaras de farinha de trigo. Adicione 1 colher de sopa de fermento e asse por 40 minutos a 180°C.\",\n",
        "    \"Cafe\": \"Bolo de café: Dissolva 2 colheres de sopa de café solúvel em 1 xícara de água quente. Em uma tigela, misture 3 ovos, 1 xícara de açúcar, 1/2 xícara de óleo, o café dissolvido e 2 xícaras de farinha de trigo. Asse por 40 minutos a 180°C.\",\n",
        "    \"Fuba_com_goiabada\": \"Bolo de fubá com goiabada: Misture 3 ovos, 2 xícaras de açúcar, 3 xícaras de leite, 1 xícara de fubá, 1 xícara de farinha de trigo, 1/2 xícara de óleo e 1 colher de sopa de fermento. Despeje metade da massa em uma forma untada, adicione pedaços de goiabada e cubra com o restante da massa. Asse por 40 minutos a 180°C.\",\n",
        "    \"Chocolate\": \"Bolo de chocolate: Misture 3 ovos, 2 xícaras de açúcar, 1 xícara de óleo, 1 xícara de leite, 1 xícara de chocolate em pó, 2 xícaras de farinha de trigo e 1 colher de sopa de fermento. Asse por 40 minutos a 180°C.\"\n",
        "}\n",
        "\n",
        "# Função para responder ao comando /start\n",
        "@bot.message_handler(commands=['start'])\n",
        "def send_welcome(message):\n",
        "    bot.reply_to(message, \"Olá! Eu sou o bot de receitas. Posso te oferecer receitas típicas ou receitas de bolo simples. Digite /receitas_tipicas para ver as receitas típicas ou /bolo_simples para ver as receitas de bolo simples.\")\n",
        "\n",
        "# Função para listar as receitas típicas\n",
        "@bot.message_handler(commands=['receitas_tipicas'])\n",
        "def listar_receitas_tipicas(message):\n",
        "    try:\n",
        "        receitas = \"\\n\".join(receitas_tipicas.keys())\n",
        "        bot.reply_to(message, f\"Aqui estão as receitas típicas disponíveis:\\n{receitas}\\nDigite /receita_tipica seguido do nome da receita, por exemplo, /receita_tipica_Feijoada.\")\n",
        "    except Exception as e:\n",
        "        logging.error(f\"Erro ao listar receitas típicas: {e}\")\n",
        "        bot.reply_to(message, \"Desculpe, houve um erro ao listar as receitas típicas.\")\n",
        "\n",
        "# Função para listar as receitas de bolo simples\n",
        "@bot.message_handler(commands=['bolo_simples'])\n",
        "def listar_bolo_simples(message):\n",
        "    try:\n",
        "        receitas = \"\\n\".join(receitas_bolo_simples.keys())\n",
        "        bot.reply_to(message, f\"Aqui estão as opções de bolo simples disponíveis:\\n{receitas}\\nDigite /receita_bolo_simples seguido do sabor desejado, por exemplo, /receita_bolo_simples_Limao.\")\n",
        "    except Exception as e:\n",
        "        logging.error(f\"Erro ao listar receitas de bolo simples: {e}\")\n",
        "        bot.reply_to(message, \"Desculpe, houve um erro ao listar as receitas de bolo simples.\")\n",
        "\n",
        "# Função para oferecer uma receita específica de receita típica\n",
        "@bot.message_handler(func=lambda message: message.text.startswith('/receita_tipica_'))\n",
        "def receita_tipica_especifica(message):\n",
        "    try:\n",
        "        nome_receita = message.text[len('/receita_tipica_'):]\n",
        "        if nome_receita in receitas_tipicas:\n",
        "            receita = receitas_tipicas[nome_receita]\n",
        "            bot.reply_to(message, receita)\n",
        "        else:\n",
        "            bot.reply_to(message, \"Desculpe, não encontrei essa receita típica.\")\n",
        "    except Exception as e:\n",
        "        logging.error(f\"Erro ao buscar receita típica específica: {e}\")\n",
        "        bot.reply_to(message, \"Desculpe, houve um erro ao buscar a receita típica.\")\n",
        "\n",
        "# Função para oferecer uma receita específica de bolo simples\n",
        "@bot.message_handler(func=lambda message: message.text.startswith('/receita_bolo_simples_'))\n",
        "def receita_bolo_simples_especifica(message):\n",
        "    try:\n",
        "        sabor = message.text[len('/receita_bolo_simples_'):]\n",
        "        if sabor in receitas_bolo_simples:\n",
        "            receita = receitas_bolo_simples[sabor]\n",
        "            bot.reply_to(message, receita)\n",
        "        else:\n",
        "            bot.reply_to(message, \"Desculpe, não encontrei essa receita de bolo simples.\")\n",
        "    except Exception as e:\n",
        "        logging.error(f\"Erro ao buscar receita de bolo simples específica: {e}\")\n",
        "        bot.reply_to(message, \"Desculpe, houve um erro ao buscar a receita de bolo simples.\")\n",
        "\n",
        "# Função para fechar o bot\n",
        "@bot.message_handler(commands=['fechar_bot'])\n",
        "def fechar_bot(message):\n",
        "    bot.reply_to(message, \"Obrigado por usar o bot de receitas! Até logo!\")\n",
        "    bot.stop_polling()\n",
        "\n",
        "# Inicia o bot\n",
        "bot.polling()\n"
      ]
    }
  ]
}